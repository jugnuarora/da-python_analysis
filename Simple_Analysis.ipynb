{
 "cells": [
  {
   "attachments": {},
   "cell_type": "markdown",
   "metadata": {},
   "source": [
    "# Disney+ Movies and TV Shows #\n"
   ]
  },
  {
   "attachments": {},
   "cell_type": "markdown",
   "metadata": {},
   "source": [
    "You are working as Junior Data Analyst at Disney Plus. There is combined data on movies and TV shows. It is available in [Kaggle](https://www.kaggle.com/datasets/shivamb/disney-movies-and-tv-shows). \n",
    "\n",
    "The Content Manager wants you to clean the data and provide insights to answer some of the questions like:\n",
    "\n",
    "1. Identify the unique list of ratings. How many movies and tv shows are listed under each rating?\n",
    "2. What is the average duration of movies and tv shows?\n",
    "3. How many movies and tv shows have been released till now in Germany. Give the list year-wise.\n",
    "4. Which Director has directed the maximum number of movies and in which genre?\n",
    "\n",
    "The task has been handed over to you by your team lead in the data department. They expect you to apply your Python knowledge on strings, descriptive statistics and want you to build re-usable functions.\n",
    "\n",
    "Your analysis will help the Content Manager at Disney Plus to make a decision on the direction and future investments the company makes in movies as well as TV shows and will influence what gets released. \n",
    "\n",
    "Also, your manager wants to use the functions himself and he is not code savvy. For him to understand the functions and re-use them, add DosStrings to your functions mentioning what it does, expected inputs along with their default values and expected outputs.\n",
    "\n",
    "There are expected outputs mentioned for few of the cells for you to confirm that you are on right track. \n",
    "\n",
    "You might have to refer to Python documentation. "
   ]
  },
  {
   "attachments": {},
   "cell_type": "markdown",
   "metadata": {},
   "source": [
    "## Data Dictionary ##"
   ]
  },
  {
   "cell_type": "markdown",
   "metadata": {},
   "source": [
    "1. show_id - Unique id\n",
    "2. type - Movie or TV Show\n",
    "3. title - Name of the movie/show\n",
    "4. director - Directors of the movie/show\n",
    "5. cast - Main cast of the moview/show\n",
    "6. country - Country of production\n",
    "7. date_Added - Date added on Disney+\n",
    "8. release_year - Original Release Year of the moview/tv show\n",
    "9. rating - Rating of the movie/show \n",
    "10. duration - Total duration of the moview/show"
   ]
  },
  {
   "attachments": {},
   "cell_type": "markdown",
   "metadata": {},
   "source": [
    "## Step 1: Read the file and display first 5 rows ##"
   ]
  },
  {
   "cell_type": "code",
   "execution_count": 1,
   "metadata": {},
   "outputs": [],
   "source": [
    "from csv import reader\n",
    "opened_file = open('./Data/disney_plus_titles.csv', encoding=\"utf-8\")\n",
    "read_file = reader(opened_file)\n",
    "dp = list(read_file)\n",
    "\n",
    "# Extract the title and data in separate lists"
   ]
  },
  {
   "cell_type": "code",
   "execution_count": null,
   "metadata": {},
   "outputs": [],
   "source": [
    "# print the columns of given data"
   ]
  },
  {
   "attachments": {},
   "cell_type": "markdown",
   "metadata": {},
   "source": [
    "### Create Function `explore_data` ###\n",
    "Create a function `explore_data` that will take dp, start row, end row and a boolean to check if you want to display total number of rows and columns. \n",
    "\n",
    "It should print rows from start to end and if we want to display number of rows and columns, then that too. \n",
    "\n",
    "For example, I want to display first five rows and also want to display total number of rows and columns in the input data. Make sure to use local variables."
   ]
  },
  {
   "cell_type": "code",
   "execution_count": 2,
   "metadata": {},
   "outputs": [],
   "source": [
    "def explore_data(....."
   ]
  },
  {
   "attachments": {},
   "cell_type": "markdown",
   "metadata": {},
   "source": [
    "Use `explore_data` function to display top 5 rows along with number of rows and columns"
   ]
  },
  {
   "cell_type": "code",
   "execution_count": null,
   "metadata": {},
   "outputs": [],
   "source": []
  },
  {
   "attachments": {},
   "cell_type": "markdown",
   "metadata": {},
   "source": [
    "Again use the `explore_data` function to display the last 5 rows. \n",
    "\n",
    "This time you don't have to display the number of rows and columns. \n",
    "\n",
    "Make sure that the title in the last row is 'Captain Sparky vs. The Flying Saucers'"
   ]
  },
  {
   "cell_type": "code",
   "execution_count": null,
   "metadata": {},
   "outputs": [],
   "source": []
  },
  {
   "attachments": {},
   "cell_type": "markdown",
   "metadata": {},
   "source": [
    "## Step 2: Separate Movies and TV Shows ##\n",
    "\n",
    "Code a `for loop` to separate Movies to `disney_movies` and TV Shows to `disney_shows` and also check if there are any other than movies and shows. \n",
    "\n",
    "Also, ensure that the column has only 2 values, either `Movie` or `TV Show`"
   ]
  },
  {
   "cell_type": "code",
   "execution_count": 5,
   "metadata": {},
   "outputs": [],
   "source": [
    "disney_movies = []\n",
    "disney_shows = []"
   ]
  },
  {
   "attachments": {},
   "cell_type": "markdown",
   "metadata": {},
   "source": [
    "Explore all your new datasets created using your earlier created function. How many Movies and TV Shows are listed? Are there any other than Movies and TV Shows?"
   ]
  },
  {
   "cell_type": "code",
   "execution_count": null,
   "metadata": {},
   "outputs": [],
   "source": [
    "# Movies"
   ]
  },
  {
   "cell_type": "code",
   "execution_count": null,
   "metadata": {},
   "outputs": [],
   "source": [
    "# TV Shows"
   ]
  },
  {
   "cell_type": "code",
   "execution_count": null,
   "metadata": {},
   "outputs": [],
   "source": [
    "# Others"
   ]
  },
  {
   "attachments": {},
   "cell_type": "markdown",
   "metadata": {},
   "source": [
    "Expected outputs:\n",
    "\n",
    "Disney Movies:  1052\n",
    "\n",
    "Disney TV Shows:  398\n",
    "\n",
    "Disney Others:  0"
   ]
  },
  {
   "cell_type": "markdown",
   "metadata": {},
   "source": [
    "## Step 3: Get a list of ratings ##"
   ]
  },
  {
   "attachments": {},
   "cell_type": "markdown",
   "metadata": {},
   "source": [
    "Create a function that will generate a list of unique values for required column from the given dataset. "
   ]
  },
  {
   "cell_type": "code",
   "execution_count": 34,
   "metadata": {},
   "outputs": [],
   "source": [
    "def list_of_elements(data_l, \n"
   ]
  },
  {
   "attachments": {},
   "cell_type": "markdown",
   "metadata": {},
   "source": [
    "Use the above created function to generate the list of ratings in the original dataset"
   ]
  },
  {
   "cell_type": "code",
   "execution_count": null,
   "metadata": {},
   "outputs": [],
   "source": [
    "print(list_of_elements(dp,8))"
   ]
  },
  {
   "attachments": {},
   "cell_type": "markdown",
   "metadata": {},
   "source": [
    "## Step 4: For each corresponding rating get the number of movies and shows. ##"
   ]
  },
  {
   "attachments": {},
   "cell_type": "markdown",
   "metadata": {},
   "source": [
    "Write a function `rating_count` that will create a dictionary with key value pair where key is the rating and value is the count of movies or TV Shows. The output should be sorted in descending order of counts"
   ]
  },
  {
   "cell_type": "code",
   "execution_count": 11,
   "metadata": {},
   "outputs": [],
   "source": [
    "def rating_count(dataset_l):\n",
    "\n",
    "    return sorted_rating_count"
   ]
  },
  {
   "attachments": {},
   "cell_type": "markdown",
   "metadata": {},
   "source": [
    "Print the Movie Ratings Count and TV Shows Ratings Count"
   ]
  },
  {
   "cell_type": "code",
   "execution_count": null,
   "metadata": {},
   "outputs": [],
   "source": []
  },
  {
   "attachments": {},
   "cell_type": "markdown",
   "metadata": {},
   "source": [
    "The expected output is:\n",
    "\n",
    "Moview Ratings Count: {'G': 253, 'PG': 235, 'TV-G': 233, 'TV-PG': 181, 'PG-13': 66, 'TV-14': 37, 'TV-Y7': 36, 'TV-Y7-FV': 7, 'TV-Y': 3, '': 1}\n",
    "\n",
    "Shows Ratings Count: {'TV-PG': 120, 'TV-Y7': 95, 'TV-G': 85, 'TV-Y': 47, 'TV-14': 42, 'TV-Y7-FV': 6, '': 2, 'PG': 1}"
   ]
  },
  {
   "attachments": {},
   "cell_type": "markdown",
   "metadata": {},
   "source": [
    "## Step 5: Get the list of categories for \"listed_in\" column ##"
   ]
  },
  {
   "attachments": {},
   "cell_type": "markdown",
   "metadata": {},
   "source": [
    "Get the list of unique values in 'listed_in' column. It's now a one line code."
   ]
  },
  {
   "cell_type": "code",
   "execution_count": null,
   "metadata": {},
   "outputs": [],
   "source": []
  },
  {
   "attachments": {},
   "cell_type": "markdown",
   "metadata": {},
   "source": [
    "## Step 6: Get the unique list of above categories and then the count in each category ##\n",
    "For this generalize the list_of_ratings to have data, column location and seperator as input. Let's name it `list_of_items`"
   ]
  },
  {
   "cell_type": "code",
   "execution_count": 36,
   "metadata": {},
   "outputs": [],
   "source": [
    "def list_of_items(data_l, loc_l, sep_l):\n",
    "\n",
    "    return items_list_l"
   ]
  },
  {
   "attachments": {},
   "cell_type": "markdown",
   "metadata": {},
   "source": [
    "Use above created function to print the unique list of Genres ('listed-in')"
   ]
  },
  {
   "cell_type": "code",
   "execution_count": null,
   "metadata": {},
   "outputs": [],
   "source": []
  },
  {
   "attachments": {},
   "cell_type": "markdown",
   "metadata": {},
   "source": [
    "Also, generalize the rating_count to have data, location and separator as input. Let's name it `item_count`."
   ]
  },
  {
   "cell_type": "code",
   "execution_count": 39,
   "metadata": {},
   "outputs": [],
   "source": [
    "def items_count(dataset_l, loc_l, sep_l):\n",
    "\n",
    "    return sorted_items_count"
   ]
  },
  {
   "attachments": {},
   "cell_type": "markdown",
   "metadata": {},
   "source": [
    "Get the count of each genre in movies and tv shows"
   ]
  },
  {
   "cell_type": "code",
   "execution_count": null,
   "metadata": {},
   "outputs": [],
   "source": []
  },
  {
   "attachments": {},
   "cell_type": "markdown",
   "metadata": {},
   "source": [
    "The maximum movies are listed in _______ followed by _______.\n",
    "\n",
    "The maximum Shows are listed in ________ followed by ________."
   ]
  },
  {
   "attachments": {},
   "cell_type": "markdown",
   "metadata": {},
   "source": [
    "The expected output is:\n",
    "\n",
    "The maximum movies are listed in Family followed by Comedy and animation.\n",
    "\n",
    "The maximum Shows are listed in Animation followed by Action-Adventure and Docuseries."
   ]
  },
  {
   "attachments": {},
   "cell_type": "markdown",
   "metadata": {},
   "source": [
    "## Step 7: What is the average duration of movies and shows ##"
   ]
  },
  {
   "attachments": {},
   "cell_type": "markdown",
   "metadata": {},
   "source": [
    "The duration of movies is in minutes and shows in seasons. Remove the suffix minutes and seasons and covert them to numeric. Create a function for it."
   ]
  },
  {
   "cell_type": "code",
   "execution_count": 15,
   "metadata": {},
   "outputs": [],
   "source": [
    "def duration_conversion(data_l):\n",
    "\n",
    "    return data_l"
   ]
  },
  {
   "attachments": {},
   "cell_type": "markdown",
   "metadata": {},
   "source": [
    "Create a function average that will create the average of all the values in a column in given dataset."
   ]
  },
  {
   "cell_type": "code",
   "execution_count": 16,
   "metadata": {},
   "outputs": [],
   "source": [
    "def average(data_l\n"
   ]
  },
  {
   "attachments": {},
   "cell_type": "markdown",
   "metadata": {},
   "source": [
    "Use the newly created functions to calculate the average duration for movies."
   ]
  },
  {
   "cell_type": "code",
   "execution_count": 17,
   "metadata": {},
   "outputs": [],
   "source": []
  },
  {
   "cell_type": "code",
   "execution_count": null,
   "metadata": {},
   "outputs": [],
   "source": []
  },
  {
   "cell_type": "code",
   "execution_count": null,
   "metadata": {},
   "outputs": [],
   "source": [
    "print(\"Average Duration of Movies in minutes: \""
   ]
  },
  {
   "attachments": {},
   "cell_type": "markdown",
   "metadata": {},
   "source": [
    " Now Calculate the average duration for TV Shows"
   ]
  },
  {
   "cell_type": "code",
   "execution_count": null,
   "metadata": {},
   "outputs": [],
   "source": []
  },
  {
   "cell_type": "code",
   "execution_count": null,
   "metadata": {},
   "outputs": [],
   "source": []
  },
  {
   "attachments": {},
   "cell_type": "markdown",
   "metadata": {},
   "source": [
    "The average duration of movies is ________.\n",
    "\n",
    "The average duration of TV shows is _________."
   ]
  },
  {
   "attachments": {},
   "cell_type": "markdown",
   "metadata": {},
   "source": [
    "The expected output is:\n",
    "\n",
    "The average duration of movies is 72 minutes.\n",
    "\n",
    "The average duration of TV shows is 2 seasons."
   ]
  },
  {
   "attachments": {},
   "cell_type": "markdown",
   "metadata": {},
   "source": [
    "## Step 8: Can you make your function more robust? ##\n",
    "\n",
    "Make a nested function `filter_data` to filter the data based on criteria in the input and then use this nested function in items_count to generate statistics for filtered data. \n",
    "\n",
    "For example, if your content manager asks you to provide the count of movies based on genre only in Germany. \n",
    "\n",
    "You start working on the function and after some time he wants the data only for the year 2004. \n",
    "\n",
    "With this ever changing filtering criteria, you decide to make your function handle this dynamic changing filtering list. "
   ]
  },
  {
   "cell_type": "code",
   "execution_count": null,
   "metadata": {},
   "outputs": [],
   "source": [
    "def filter_data(\n",
    "        \n",
    "\n",
    "\n",
    "        "
   ]
  },
  {
   "cell_type": "code",
   "execution_count": null,
   "metadata": {},
   "outputs": [],
   "source": [
    "def items_count(dataset_l, loc_l, sep_l, filters_l):\n",
    "    #use `filter_data` function within this function\n",
    "\n",
    "    "
   ]
  },
  {
   "attachments": {},
   "cell_type": "markdown",
   "metadata": {},
   "source": [
    "Print the count of movies based on genre and without any filtering criteria"
   ]
  },
  {
   "cell_type": "code",
   "execution_count": null,
   "metadata": {},
   "outputs": [],
   "source": [
    "print(items_count("
   ]
  },
  {
   "attachments": {},
   "cell_type": "markdown",
   "metadata": {},
   "source": [
    "Now, print the count of movies based on genre and only for Germany"
   ]
  },
  {
   "cell_type": "code",
   "execution_count": null,
   "metadata": {},
   "outputs": [],
   "source": [
    "print(items_count("
   ]
  },
  {
   "attachments": {},
   "cell_type": "markdown",
   "metadata": {},
   "source": [
    "Now, print the count of movies based on genre and only for Germany and that too only for year 2004"
   ]
  },
  {
   "cell_type": "code",
   "execution_count": null,
   "metadata": {},
   "outputs": [],
   "source": [
    "print(items_count("
   ]
  },
  {
   "attachments": {},
   "cell_type": "markdown",
   "metadata": {},
   "source": [
    "The expected output is:\n",
    "\n",
    "{'Comedy': 2, 'Action-Adventure': 1, 'Family': 1, 'Coming of Age': 1}"
   ]
  },
  {
   "attachments": {},
   "cell_type": "markdown",
   "metadata": {},
   "source": [
    "Now, use above functions to find out:\n",
    "1. Which director has directed maximum number of movies?\n",
    "2. Analyze the growth of movies and TV shows released over past years.\n",
    "3. How many movies and TV Shows have been released in Germany?"
   ]
  },
  {
   "cell_type": "markdown",
   "metadata": {},
   "source": [
    "## Step 9: Now let's create an interactive tool for the content manage ##\n",
    "\n",
    "For this, create a new folder `Ànalysis_tool`. Make different functions as modules. For example ` explore_data.py`. In the main file `analysis.py`, import all the modules. Code your interactive tool after ` if __name__ == \"__main__\": ` The tool should be interactive in the following way:\n",
    "\n",
    "1. Ask if the combined data has to be analyzed or movies or TV shows has to be analyzed.\n",
    "2. Create options based on your created functions. Ask interactively to give filter options or the column options on which it wants the unique list. Be innovative.\n",
    "3. Make it repetitive until user wants to exist. \n",
    "\n",
    "Once you are done, execute this code using terminal by giving `Python analysis.py`\n",
    "\n",
    "Your tool might look like this:\n",
    "````\n",
    "To analyze combined dataset type c \n",
    "To analyze only movies type m \n",
    "To analyze only TV shows type t  \n",
    "To quit q \n",
    "Enter the option!: \n",
    "````\n",
    "If you give option 'm', it will analyze only movies. Next it will ask:\n",
    "```\n",
    "To explore the dataset type e \n",
    "To list the unique values in a column type u \n",
    "To count number of movies/TV shows for each unique values type c \n",
    "To find the average value in a column type a \n",
    "Enter the option!: \n",
    "````\n",
    "If you give option c, it will give the count of unique values in asked column based on given filter criteria.\n",
    "```\n",
    "Which column:\n",
    "0: show_id\n",
    "1: type\n",
    "2: title\n",
    "3: director\n",
    "4: cast\n",
    "5: country\n",
    "6: date_added\n",
    "7: release_year\n",
    "8: rating\n",
    "9: duration\n",
    "10: listed_in\n",
    "11: description\n",
    "Enter the number as per the list above: \n",
    "````\n",
    "If you give 10 and then in separator as ',', it will ask you for filter criteria\n",
    "````\n",
    "Enter the number as per the list above: 10\n",
    "Enter the separator in case of multiple values: ,\n",
    "Are there filter criteria yes/no: \n",
    "````\n",
    "If you want to give filter criteria, say 'yes' and it will ask for column and value on which to filter\n",
    "````\n",
    "Which column:\n",
    "0: show_id\n",
    "1: type\n",
    "2: title\n",
    "3: director\n",
    "4: cast\n",
    "5: country\n",
    "6: date_added\n",
    "7: release_year\n",
    "8: rating\n",
    "9: duration\n",
    "10: listed_in\n",
    "11: description\n",
    "Enter column to filter as per above list: \n",
    "````\n",
    "Say, you want to filter on country.\n",
    "````\n",
    "['', 'United States', 'Australia', 'Canada', 'United Kingdom', 'Ireland', 'Denmark', 'Spain', 'Poland', 'Hungary', 'Germany', 'Singapore', 'Thailand', 'Brazil', 'Belgium', 'Austria', 'South Africa', 'Japan', 'France', 'Hong Kong', 'United Arab Emirates', 'Mexico', 'Switzerland', 'India', 'China', 'Tanzania', 'Panama', 'Angola', 'Botswana', 'Namibia', 'South Korea', 'Russia', 'Malaysia', 'Kazakhstan', 'Taiwan', 'Syria', 'Iran', 'Egypt', 'Pakistan', 'New Zealand', 'Norway', 'Sweden', 'Slovenia', 'Czech Republic']\n",
    "What value you want to filter: \n",
    "````\n",
    "Now give the value of country. Say, Germany.\n",
    "````\n",
    "Are there more filter criteria yes/no: \n",
    "````\n",
    "Now, let's say you want to filter on release_year\n",
    "````\n",
    "Which column:\n",
    "0: show_id\n",
    "1: type\n",
    "2: title\n",
    "3: director\n",
    "4: cast\n",
    "5: country\n",
    "6: date_added\n",
    "7: release_year\n",
    "8: rating\n",
    "9: duration\n",
    "10: listed_in\n",
    "11: description\n",
    "Enter column to filter as per above list: \n",
    "````\n",
    "After giving 7:\n",
    "````\n",
    "['2016', '1988', '2011', '2021', '2008', '2020', '2007', '2014', '2015', '2013', '2012', '2006', '2010', '1996', '2009', '1993', '1994', '2019', '2017', '2005', '2000', '2004', '1987', '1967', '1991', '1956', '1995', '1984', '1985', '1974', '1959', '2003', '1997', '2018', '2001', '1990', '1992', '1998', '1952', '1955', '1977', '1957', '1999', '1989', '1948', '1964', '1969', '1942', '1950', '1951', '1953', '1949', '1940', '1946', '1954', '1936', '1944', '1935', '1939', '1975', '1978', '1971', '1961', '2002', '1962', '1981', '1932', '1938', '1941', '1986', '1947', '1937', '1966', '1943', '1934', '1976', '1980', '1960', '1983', '1973', '1972', '1928', '1965', '1979', '1970', '1963', '1933', '1945', '1982', '1968']\n",
    "What value you want to filter: \n",
    "````\n",
    "Let's get the data for year 2004.\n",
    "```\n",
    "Are there more filter criteria yes/no: \n",
    "````\n",
    "That's all. No more filter criteria. So it should return:\n",
    "````\n",
    "{'Comedy': 2, 'Action-Adventure': 1, 'Family': 1, 'Coming of Age': 1}\n",
    "\n",
    "To analyze combined dataset type c \n",
    "To analyze only movies type m \n",
    "To analyze only TV shows type t  \n",
    "To quit q \n",
    "Enter the option!:\n",
    "````\n"
   ]
  }
 ],
 "metadata": {
  "kernelspec": {
   "display_name": "base",
   "language": "python",
   "name": "python3"
  },
  "language_info": {
   "codemirror_mode": {
    "name": "ipython",
    "version": 3
   },
   "file_extension": ".py",
   "mimetype": "text/x-python",
   "name": "python",
   "nbconvert_exporter": "python",
   "pygments_lexer": "ipython3",
   "version": "3.9.16"
  },
  "orig_nbformat": 4,
  "vscode": {
   "interpreter": {
    "hash": "619b955346cbfe204b67180c22b650d924d6345250d3da715f150ba579a03d34"
   }
  }
 },
 "nbformat": 4,
 "nbformat_minor": 2
}
