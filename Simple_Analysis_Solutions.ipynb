{
 "cells": [
  {
   "attachments": {},
   "cell_type": "markdown",
   "metadata": {},
   "source": [
    "# Disney+ Movies and TV Shows #\n"
   ]
  },
  {
   "attachments": {},
   "cell_type": "markdown",
   "metadata": {},
   "source": [
    "You are working as Junior Data Analyst at Disney Plus. There is combined data on movies and TV shows. It is available in [Kaggle](https://www.kaggle.com/datasets/shivamb/disney-movies-and-tv-shows). \n",
    "\n",
    "The Content Manager wants you to clean the data and provide insights to answer some of the questions like:\n",
    "\n",
    "1. Identify the unique list of ratings. How many movies and tv shows are listed under each rating?\n",
    "2. What is the average duration of movies and tv shows?\n",
    "3. How many movies and tv shows have been released till now in Germany. Give the list year-wise.\n",
    "4. Which Director has directed the maximum number of movies and in which genre?\n",
    "\n",
    "The task has been handed over to you by your team lead in the data department. They expect you to apply your Python knowledge on strings, descriptive statistics and want you to build re-usable functions.\n",
    "\n",
    "Your analysis will help the Content Manager at Disney Plus to make a decision on the direction and future investments the company makes in movies as well as TV shows and will influence what gets released."
   ]
  },
  {
   "attachments": {},
   "cell_type": "markdown",
   "metadata": {},
   "source": [
    "## Data Dictionary ##"
   ]
  },
  {
   "cell_type": "markdown",
   "metadata": {},
   "source": [
    "1. show_id - Unique id\n",
    "2. type - Movie or TV Show\n",
    "3. title - Name of the movie/show\n",
    "4. director - Directors of the movie/show\n",
    "5. cast - Main cast of the moview/show\n",
    "6. country - Country of production\n",
    "7. date_Added - Date added on Disney+\n",
    "8. release_year - Original Release Year of the moview/tv show\n",
    "9. rating - Rating of the movie/show \n",
    "10. duration - Total duration of the moview/show"
   ]
  },
  {
   "attachments": {},
   "cell_type": "markdown",
   "metadata": {},
   "source": [
    "## Step 1: Read the file and display first 5 rows ##"
   ]
  },
  {
   "cell_type": "code",
   "execution_count": 1,
   "metadata": {},
   "outputs": [],
   "source": [
    "from csv import reader\n",
    "opened_file = open('./Data/disney_plus_titles.csv', encoding=\"utf-8\")\n",
    "read_file = reader(opened_file)\n",
    "dp = list(read_file)\n",
    "dp_header = dp[0]\n",
    "dp = dp[1:]"
   ]
  },
  {
   "cell_type": "code",
   "execution_count": 2,
   "metadata": {},
   "outputs": [
    {
     "name": "stdout",
     "output_type": "stream",
     "text": [
      "['show_id', 'type', 'title', 'director', 'cast', 'country', 'date_added', 'release_year', 'rating', 'duration', 'listed_in', 'description']\n"
     ]
    }
   ],
   "source": [
    "print(dp_header)"
   ]
  },
  {
   "attachments": {},
   "cell_type": "markdown",
   "metadata": {},
   "source": [
    "### Create Function `explore_data` ###\n",
    "Create a function `explore_data` that will take dp, start row, end row and a boolean to check if you want to display total number of rows and columns. \n",
    "\n",
    "It should print rows from start to end and if we want to display number of rows and columns, then that too. \n",
    "\n",
    "For example, I want to display first five rows and also want to display total number of rows and columns in the input data. Make sure to use local variables."
   ]
  },
  {
   "cell_type": "code",
   "execution_count": 3,
   "metadata": {},
   "outputs": [],
   "source": [
    "def explore_data(data_list_l, start_l, end_l, rows_and_columns_l=False):\n",
    "    if end_l == None:\n",
    "        data_slice_l = data_list_l[start_l:]\n",
    "    else:\n",
    "        data_slice_l = data_list_l[start_l:end_l]\n",
    "        \n",
    "    for row_l in data_slice_l:\n",
    "        print(row_l)\n",
    "        print('\\n')\n",
    "        \n",
    "    if rows_and_columns_l:\n",
    "        print('no. of rows:', len(data_list_l))\n",
    "        print('no. of columns:', len(data_list_l[0]))"
   ]
  },
  {
   "attachments": {},
   "cell_type": "markdown",
   "metadata": {},
   "source": [
    "Use `explore_data` function to display top 5 rows along with number of rows and columns"
   ]
  },
  {
   "cell_type": "code",
   "execution_count": 4,
   "metadata": {},
   "outputs": [
    {
     "name": "stdout",
     "output_type": "stream",
     "text": [
      "['s1', 'Movie - Animation', 'Duck the Halls: A Mickey Mouse Christmas Special', 'Alonso Ramirez Ramos, Dave Wasson', 'Chris Diamantopoulos, Tony Anselmo, Tress MacNeille, Bill Farmer, Russi Taylor, Corey Burton', '', 'November 26, 2021', '2016', 'TV-G', '23 min', 'Animation, Family', 'Join Mickey and the gang as they duck the halls!']\n",
      "\n",
      "\n",
      "['s2', 'Movie-Comedy', 'Ernest Saves Christmas', 'John Cherry', 'Jim Varney, Noelle Parker, Douglas Seale', '', 'November 26, 2021', '1988', 'PG', '91 min', 'Comedy', 'Santa Claus passes his magic bag to a new St. Nic.']\n",
      "\n",
      "\n",
      "['s3', 'Movie', 'Ice Age: A Mammoth Christmas', 'Karen Disher', 'Raymond Albert Romano, John Leguizamo, Denis Leary, Queen Latifah', 'United States', 'November 26, 2021', '2011', 'TV-G', '23 min', 'Animation, Comedy, Family', \"Sid the Sloth is on Santa's naughty list.\"]\n",
      "\n",
      "\n",
      "['s4', 'Movie', 'The Queen Family Singalong', 'Hamish Hamilton', 'Darren Criss, Adam Lambert, Derek Hough, Alexander Jean, Fall Out Boy, Jimmie Allen', '', 'November 26, 2021', '2021', 'TV-PG', '41 min', 'Musical', 'This is real life, not just fantasy!']\n",
      "\n",
      "\n",
      "['s5', 'TV Show - Docuseries', 'The Beatles: Get Back', '', 'John Lennon, Paul McCartney, George Harrison, Ringo Starr', '', 'November 25, 2021', '2021', '', '1 Season', 'Docuseries, Historical, Music', 'A three-part documentary from Peter Jackson capturing a moment in music history with The Beatles.']\n",
      "\n",
      "\n",
      "no. of rows: 1450\n",
      "no. of columns: 12\n"
     ]
    }
   ],
   "source": [
    "explore_data(dp,0,5,True)"
   ]
  },
  {
   "attachments": {},
   "cell_type": "markdown",
   "metadata": {},
   "source": [
    "Again use the `explore_data` function to display the last 5 rows. \n",
    "\n",
    "This time you don't have to display the number of rows and columns. \n",
    "\n",
    "Make sure that the title in the last row is 'Captain Sparky vs. The Flying Saucers'"
   ]
  },
  {
   "cell_type": "code",
   "execution_count": 5,
   "metadata": {},
   "outputs": [
    {
     "name": "stdout",
     "output_type": "stream",
     "text": [
      "['s1446', 'Movie', 'X-Men Origins: Wolverine', 'Gavin Hood', 'Hugh Jackman, Liev Schreiber, Danny Huston, will.i.am , Lynn Collins, Kevin Durand', 'United States, United Kingdom', 'June 4, 2021', '2009', 'PG-13', '108 min', 'Action-Adventure, Family, Science Fiction', 'Wolverine unites with legendary X-Men to fight against forces determined to eliminate mutants.']\n",
      "\n",
      "\n",
      "['s1447', 'Movie', 'Night at the Museum: Battle of the Smithsonian', 'Shawn Levy', 'Ben Stiller, Amy Adams, Owen Wilson, Hank Azaria, Christopher Guest, Alain Chabat', 'United States, Canada', 'April 2, 2021', '2009', 'PG', '106 min', 'Action-Adventure, Comedy, Family', 'Larry Daley returns to rescue some old friends while the Smithsonian Institution comes alive.']\n",
      "\n",
      "\n",
      "['s1448', 'Movie', 'Eddie the Eagle', 'Dexter Fletcher', 'Tom Costello, Jo Hartley, Keith Allen, Dickon Tolson, Jack Costello, Taron Egerton', 'United Kingdom, Germany, United States', 'December 18, 2020', '2016', 'PG-13', '107 min', 'Biographical, Comedy, Drama', 'True story of Eddie Edwards, a British ski-jumper whose Olympic performance wins the hearts of fans.']\n",
      "\n",
      "\n",
      "['s1449', 'Movie - Comedy', 'Bend It Like Beckham', 'Gurinder Chadha', 'Parminder Nagra, Keira Knightley, Jonathan Rhys-Meyers, Anupam Kher, Archie Panjabi, Shaznay Lewis', 'United Kingdom, Germany, United States', 'September 18, 2020', '2003', 'PG-13', '112 min', 'Buddy, Comedy, Coming of Age', 'Despite the wishes of their traditional families, two girls aim for careers in professional soccer.']\n",
      "\n",
      "\n",
      "['s1450', 'Movie - Action', 'Captain Sparky vs. The Flying Saucers', 'Mark Waring', 'Charlie Tahan', 'United States', 'April 1, 2020', '2012', 'TV-G', '2 min', 'Action-Adventure, Animals & Nature, Animation', \"View one of Sparky's favorite home movies.\"]\n",
      "\n",
      "\n"
     ]
    }
   ],
   "source": [
    "explore_data(dp,-5, None, False)"
   ]
  },
  {
   "attachments": {},
   "cell_type": "markdown",
   "metadata": {},
   "source": [
    "## Step 2: Separate Movies and TV Shows ##\n",
    "\n",
    "Code a `for loop` to separate Movies to `disney_movies` and TV Shows to `disney_shows` and also check if there are any other than movies and shows. \n",
    "\n",
    "Also, ensure that the column has only 2 values, either `Movie` or `TV Show`"
   ]
  },
  {
   "cell_type": "code",
   "execution_count": 6,
   "metadata": {},
   "outputs": [],
   "source": [
    "disney_movies = []\n",
    "disney_shows = []\n",
    "others = []\n",
    "\n",
    "for row in dp:\n",
    "    type = row[1].lower()\n",
    "    if type.startswith(\"movie\"):\n",
    "        row[1] = \"Movie\"\n",
    "        disney_movies.append(row)\n",
    "    elif type.startswith(\"tv\"):\n",
    "        disney_shows.append(row)\n",
    "    else:\n",
    "        others.append(row)"
   ]
  },
  {
   "cell_type": "code",
   "execution_count": 7,
   "metadata": {},
   "outputs": [
    {
     "name": "stdout",
     "output_type": "stream",
     "text": [
      "Disney Movies:  1052\n",
      "Disney TV Shows:  398\n",
      "Disney Others:  0\n"
     ]
    }
   ],
   "source": [
    "print(\"Disney Movies: \", len(disney_movies))\n",
    "print(\"Disney TV Shows: \", len(disney_shows))\n",
    "print(\"Disney Others: \", len(others))"
   ]
  },
  {
   "cell_type": "code",
   "execution_count": 8,
   "metadata": {},
   "outputs": [
    {
     "name": "stdout",
     "output_type": "stream",
     "text": [
      "['s1', 'Movie', 'Duck the Halls: A Mickey Mouse Christmas Special', 'Alonso Ramirez Ramos, Dave Wasson', 'Chris Diamantopoulos, Tony Anselmo, Tress MacNeille, Bill Farmer, Russi Taylor, Corey Burton', '', 'November 26, 2021', '2016', 'TV-G', '23 min', 'Animation, Family', 'Join Mickey and the gang as they duck the halls!']\n",
      "\n",
      "\n",
      "['s2', 'Movie', 'Ernest Saves Christmas', 'John Cherry', 'Jim Varney, Noelle Parker, Douglas Seale', '', 'November 26, 2021', '1988', 'PG', '91 min', 'Comedy', 'Santa Claus passes his magic bag to a new St. Nic.']\n",
      "\n",
      "\n",
      "['s3', 'Movie', 'Ice Age: A Mammoth Christmas', 'Karen Disher', 'Raymond Albert Romano, John Leguizamo, Denis Leary, Queen Latifah', 'United States', 'November 26, 2021', '2011', 'TV-G', '23 min', 'Animation, Comedy, Family', \"Sid the Sloth is on Santa's naughty list.\"]\n",
      "\n",
      "\n",
      "['s4', 'Movie', 'The Queen Family Singalong', 'Hamish Hamilton', 'Darren Criss, Adam Lambert, Derek Hough, Alexander Jean, Fall Out Boy, Jimmie Allen', '', 'November 26, 2021', '2021', 'TV-PG', '41 min', 'Musical', 'This is real life, not just fantasy!']\n",
      "\n",
      "\n",
      "['s6', 'Movie', 'Becoming Cousteau', 'Liz Garbus', 'Jacques Yves Cousteau, Vincent Cassel', 'United States', 'November 24, 2021', '2021', 'PG-13', '94 min', 'Biographical, Documentary', 'An inside look at the legendary life of adventurer Jacques-Yves Cousteau.']\n",
      "\n",
      "\n"
     ]
    }
   ],
   "source": [
    "explore_data(disney_movies,0,5,False)"
   ]
  },
  {
   "cell_type": "code",
   "execution_count": 9,
   "metadata": {},
   "outputs": [
    {
     "name": "stdout",
     "output_type": "stream",
     "text": [
      "['s5', 'TV Show - Docuseries', 'The Beatles: Get Back', '', 'John Lennon, Paul McCartney, George Harrison, Ringo Starr', '', 'November 25, 2021', '2021', '', '1 Season', 'Docuseries, Historical, Music', 'A three-part documentary from Peter Jackson capturing a moment in music history with The Beatles.']\n",
      "\n",
      "\n",
      "['s7', 'TV Show - Season 1', 'Hawkeye', '', 'Jeremy Renner, Hailee Steinfeld, Vera Farmiga, Fra Fee, Tony Dalton, Zahn McClarnon', '', 'November 24, 2021', '2021', 'TV-14', '1 Season', 'Action-Adventure, Superhero', 'Clint Barton/Hawkeye must team up with skilled archer Kate Bishop to unravel a criminal conspiracy.']\n",
      "\n",
      "\n",
      "['s8', 'TV Show', 'Port Protection Alaska', '', 'Gary Muehlberger, Mary Miller, Curly Leach, Sam Carlson, Stuart Andrews, David Squibb', 'United States', 'November 24, 2021', '2015', 'TV-14', '2 Seasons', 'Docuseries, Reality, Survival', 'Residents of Port Protection must combat volatile conditions to survive and thrive in Alaska.']\n",
      "\n",
      "\n",
      "['s9', 'TV Show', 'Secrets of the Zoo: Tampa', '', 'Dr. Ray Ball, Dr. Lauren Smith, Chris Massaro, Tiffany Burns, Mike Burns, Melinda Mendolusky', 'United States', 'November 24, 2021', '2019', 'TV-PG', '2 Seasons', 'Animals & Nature, Docuseries, Family', \"A day in the life at ZooTampa is anything but ordinary. It's extraordinary!\"]\n",
      "\n",
      "\n",
      "['s14', 'TV Show', 'Dr. Oakley, Yukon Vet', '', 'Dr. Michelle Oakley, Zachary Fine', 'United States', 'November 17, 2021', '2013', 'TV-PG', '10 Seasons', 'Action-Adventure, Animals & Nature, Docuseries', 'Meet Dr. Michelle Oakley, vet to pretty much everything that moves in the rugged Yukon.']\n",
      "\n",
      "\n"
     ]
    }
   ],
   "source": [
    "explore_data(disney_shows,0,5,False)"
   ]
  },
  {
   "cell_type": "markdown",
   "metadata": {},
   "source": [
    "## Step 3: Get a list of ratings ##"
   ]
  },
  {
   "attachments": {},
   "cell_type": "markdown",
   "metadata": {},
   "source": [
    "Create a function that will generate a list of unique values for required column from the given dataset. "
   ]
  },
  {
   "cell_type": "code",
   "execution_count": 10,
   "metadata": {},
   "outputs": [],
   "source": [
    "def list_of_elements(data_l, loc_l):\n",
    "    ratings_list_l = []\n",
    "    for row_l in data_l:\n",
    "        if row_l[loc_l] not in ratings_list_l:\n",
    "            ratings_list_l.append(row_l[loc_l])\n",
    "    return ratings_list_l"
   ]
  },
  {
   "cell_type": "markdown",
   "metadata": {},
   "source": [
    "Use the above created function to generate the list of ratings in the original dataset"
   ]
  },
  {
   "cell_type": "code",
   "execution_count": 11,
   "metadata": {},
   "outputs": [
    {
     "name": "stdout",
     "output_type": "stream",
     "text": [
      "['TV-G', 'PG', 'TV-PG', '', 'PG-13', 'TV-14', 'G', 'TV-Y7', 'TV-Y', 'TV-Y7-FV']\n"
     ]
    }
   ],
   "source": [
    "print(list_of_elements(dp,8))"
   ]
  },
  {
   "attachments": {},
   "cell_type": "markdown",
   "metadata": {},
   "source": [
    "## Step 4: For each corresponding rating get the number of movies and shows. ##"
   ]
  },
  {
   "cell_type": "markdown",
   "metadata": {},
   "source": [
    "Write a function rating_count that will create a dictionary with key value pair where key is the rating and value is the count of movies or TV Shows. The output should be sorted in descending order of counts"
   ]
  },
  {
   "cell_type": "code",
   "execution_count": 12,
   "metadata": {},
   "outputs": [],
   "source": [
    "def rating_count(dataset_l):\n",
    "    rating_count_l = {}\n",
    "    for row_l in dataset_l:\n",
    "        rating_l = row_l[8]\n",
    "        if rating_l in rating_count_l:\n",
    "            rating_count_l[rating_l] += 1\n",
    "        else:\n",
    "            rating_count_l[rating_l] = 1\n",
    "    sorted_rating_count = dict(sorted(rating_count_l.items(), key=lambda item: item[1], reverse=True))\n",
    "    return sorted_rating_count"
   ]
  },
  {
   "cell_type": "markdown",
   "metadata": {},
   "source": [
    "Print the Movie Ratings Count and TV Shows Ratings Count"
   ]
  },
  {
   "cell_type": "code",
   "execution_count": 13,
   "metadata": {},
   "outputs": [
    {
     "name": "stdout",
     "output_type": "stream",
     "text": [
      "Moview Ratings Count: {'G': 253, 'PG': 235, 'TV-G': 233, 'TV-PG': 181, 'PG-13': 66, 'TV-14': 37, 'TV-Y7': 36, 'TV-Y7-FV': 7, 'TV-Y': 3, '': 1}\n",
      "Shows Ratings Count: {'TV-PG': 120, 'TV-Y7': 95, 'TV-G': 85, 'TV-Y': 47, 'TV-14': 42, 'TV-Y7-FV': 6, '': 2, 'PG': 1}\n"
     ]
    }
   ],
   "source": [
    "print(\"Moview Ratings Count:\", rating_count(disney_movies))\n",
    "print(\"Shows Ratings Count:\", rating_count(disney_shows))"
   ]
  },
  {
   "attachments": {},
   "cell_type": "markdown",
   "metadata": {},
   "source": [
    "## Step 5: Get the list of categories for \"listed_in\" column ##"
   ]
  },
  {
   "cell_type": "markdown",
   "metadata": {},
   "source": [
    "Get the list of unique values in 'listed_in' column. It's now a one line code."
   ]
  },
  {
   "cell_type": "code",
   "execution_count": 14,
   "metadata": {},
   "outputs": [
    {
     "name": "stdout",
     "output_type": "stream",
     "text": [
      "['Animation, Family', 'Comedy', 'Animation, Comedy, Family', 'Musical', 'Docuseries, Historical, Music', 'Biographical, Documentary', 'Action-Adventure, Superhero', 'Docuseries, Reality, Survival', 'Animals & Nature, Docuseries, Family', 'Comedy, Family, Musical', 'Documentary', 'Comedy, Family, Music', 'Documentary, Family', 'Action-Adventure, Animals & Nature, Docuseries', 'Animals & Nature', 'Animation', 'Animation, Kids', 'Comedy, Coming of Age, Drama', 'Comedy, Family, Fantasy', 'Animation, Comedy, Drama', 'Animation, Family, Fantasy', 'Action-Adventure, Animation, Comedy', 'Comedy, Family', 'Action-Adventure, Comedy, Family', 'Lifestyle', 'Movies', 'Action-Adventure, Science Fiction', 'Action-Adventure, Fantasy, Superhero', 'Coming of Age, Music', 'Animation, Drama', 'Concert Film, Music', 'Animation, Comedy, Coming of Age', 'Animation, Comedy', 'Animation, Crime, Family', 'Science Fiction', 'Action-Adventure, Fantasy', 'Comedy, Fantasy, Kids', 'Action-Adventure, Comedy, Kids', 'Drama, Family, Fantasy', 'Action-Adventure, Science Fiction, Superhero', 'Drama, Sports', 'Comedy, Family, Sports', 'Action-Adventure, Animation, Kids', 'Animals & Nature, Reality', 'Documentary, Historical', 'Docuseries, Historical', 'Anthology, Comedy, Coming of Age', 'Reality', 'Animals & Nature, Docuseries, Medical', 'Animation, Coming of Age, Fantasy', 'Family, Variety', 'Docuseries', 'Action-Adventure, Science Fiction, Spy/Espionage', 'Animation, Buddy, Coming of Age', 'Action-Adventure, Animation, Science Fiction', 'Action-Adventure, Family, Fantasy', 'Animation, Family, Parody', 'Animation, Fantasy, Kids', 'Family, Game Show / Competition', 'Animals & Nature, Docuseries', 'Kids, Music', 'Animation, Science Fiction', 'Animation, Anthology, Science Fiction', 'Animals & Nature, Docuseries, Reality', 'Coming of Age, Drama, Romance', 'Action-Adventure, Animation, Anime', 'Comedy, Romance, Romantic Comedy', 'Animation, Fantasy, Musical', 'Animals & Nature, Documentary', 'Action-Adventure, Animation, Fantasy', 'Comedy, Coming of Age, Family', 'Action-Adventure, Family, Science Fiction', 'Crime, Drama', 'Comedy, Drama, Romance', 'Family, Music, Variety', 'Comedy, Drama, Thriller', 'Action-Adventure, Family, Parody', 'Animation, Kids, Police/Cop', 'Comedy, Family, Science Fiction', 'Action-Adventure, Animation, Anthology', 'Comedy, Drama', 'Animation, Anthology, Family', 'Animation, Buddy, Comedy', 'Animation, Buddy, Kids', 'Talk Show', 'Animals & Nature, Biographical, Documentary', 'Docuseries, Family', 'Action-Adventure, Buddy, Comedy', 'Animals & Nature, Drama, Family', 'Comedy, Coming of Age', 'Animals & Nature, Coming of Age, Drama', 'Animation, Fantasy', 'Action-Adventure, Docuseries, Reality', 'Animation, Kids, Sports', 'Animation, Comedy, Fantasy', 'Comedy, Sports', 'Action-Adventure, Comedy, Coming of Age', 'Action-Adventure, Reality, Survival', 'Action-Adventure, Family', 'Animation, Kids, Western', 'Action-Adventure, Animation, Family', 'Biographical, Coming of Age, Family', 'Action-Adventure, Comedy, Spy/Espionage', 'Action-Adventure, Fantasy, Science Fiction', 'Action-Adventure, Docuseries, Lifestyle', 'Action-Adventure, Drama, Historical', 'Animation, Dance, Family', 'Drama', 'Coming of Age, Drama', 'Coming of Age, Fantasy', 'Fantasy', 'Animation, Superhero', 'Animals & Nature, Animation, Kids', 'Action-Adventure, Family, Game Show / Competition', 'Biographical, Drama', 'Animation, Comedy, Parody', 'Anthology, Science Fiction', 'Fantasy, Musical', 'Biographical, Documentary, Music', 'Musical, Romance, Western', 'Action-Adventure, Comedy, Crime', 'Comedy, Coming of Age, Kids', 'Comedy, Drama, Sports', 'Animals & Nature, Anthology', 'Action-Adventure, Coming of Age, Family', 'Action-Adventure, Animals & Nature, Drama', 'Family, Kids', 'Action-Adventure, Animation', 'Comedy, Coming of Age, Crime', 'Biographical, Coming of Age, Drama', 'Action-Adventure, Biographical, Drama', 'Animation, Kids, Musical', 'Action-Adventure, Fantasy, Survival', 'Series', 'Animals & Nature, Comedy', 'Comedy, Reality', 'Action-Adventure, Buddy, Science Fiction', 'Animation, Kids, Medical', 'Anthology, Docuseries', 'Comedy, Family, Kids', 'Buddy, Comedy, Docuseries', 'Game Show / Competition, Sports, Variety', 'Comedy, Docuseries, Family', 'Comedy, Fantasy', 'Animation, Comedy, Kids', 'Family, Fantasy, Mystery', 'Variety', 'Comedy, Family, Variety', 'Anthology, Documentary', 'Family, Fantasy, Musical', 'Drama, Fantasy, Mystery', 'Family, Game Show / Competition, Reality', 'Action-Adventure, Docuseries, Fantasy', 'Action-Adventure, Docuseries, Family', 'Action-Adventure, Fantasy, Musical', 'Fantasy, Variety', 'Drama, Music, Romance', 'Biographical, Drama, Sports', 'Action-Adventure, Coming of Age, Drama', 'Action-Adventure, Fantasy, Soap Opera / Melodrama', 'Animals & Nature, Kids, Music', 'Documentary, Music', 'Coming of Age, Drama, Music', 'Action-Adventure, Animation, Buddy', 'Comedy, Variety', 'Docuseries, Reality', 'Biographical, Drama, Music', 'Animals & Nature, Documentary, Survival', 'Drama, Historical', 'Animals & Nature, Documentary, Family', 'Drama, Music', 'Biographical, Drama, Family', 'Anthology, Docuseries, Family', 'Drama, Romance', 'Docuseries, Historical, Reality', 'Documentary, Sports', 'Comedy, Drama, Family', 'Comedy, Parody, Science Fiction', 'Animals & Nature, Kids, Variety', 'Animation, Kids, Music', 'Coming of Age, Fantasy, Musical', 'Action-Adventure, Comedy, Science Fiction', 'Animals & Nature, Docuseries, Kids', 'Docuseries, Kids', 'Animals & Nature, Family, Reality', 'Dance, Music, Musical', 'Comedy, Family, Lifestyle', 'Buddy, Docuseries', 'Documentary, Family, Historical', 'Coming of Age, Drama, Family', 'Historical, Musical', 'Action-Adventure, Crime, Science Fiction', 'Biographical, Historical, Musical', 'Comedy, Coming of Age, Music', 'Animation, Documentary, Family', 'Action-Adventure, Animation, Coming of Age', 'Comedy, Kids', 'Action-Adventure, Crime, Fantasy', 'Comedy, Coming of Age, Medical', 'Drama, Family, Historical', 'Animals & Nature, Comedy, Family', 'Coming of Age, Fantasy, Mystery', 'Crime, Drama, Mystery', 'Animation, Comedy, Crime', 'Comedy, Musical, Romance', 'Action-Adventure, Docuseries, Historical', 'Action-Adventure, Animals & Nature, Family', 'Animation, Family, Sports', 'Action-Adventure, Mystery, Thriller', 'Docuseries, Family, Game Show / Competition', 'Concert Film, Music, Musical', 'Animals & Nature, Family', 'Comedy, Coming of Age, Romance', 'Animation, Family, Historical', 'Coming of Age, Drama, Musical', 'Action-Adventure, Disaster, Drama', 'Action-Adventure, Animation, Musical', 'Docuseries, Family, Lifestyle', 'Comedy, Fantasy, Romance', 'Comedy, Coming of Age, Fantasy', 'Buddy, Comedy, Drama', 'Animation, Family, Romance', 'Coming of Age, Drama, Science Fiction', 'Biographical, Comedy, Family', 'Animals & Nature, Family, Sports', 'Action-Adventure, Animation, Superhero', 'Docuseries, Science Fiction', 'Coming of Age, Documentary, Drama', 'Action-Adventure, Comedy, Fantasy', 'Action-Adventure, Documentary, Historical', 'Buddy, Docuseries, Lifestyle', 'Concert Film, Family, Fantasy', 'Animation, Comedy, Dance', 'Action-Adventure, Animals & Nature, Documentary', 'Coming of Age, Drama, Sports', 'Drama, Family', 'Drama, Family, Musical', 'Animation, Drama, Family', 'Animation, Drama, Kids', 'Animation, Anthology, Fantasy', 'Buddy, Comedy, Coming of Age', 'Animation, Family, Kids', 'Animation, Coming of Age, Family', 'Buddy, Coming of Age, Drama', 'Coming of Age, Docuseries, Family', 'Coming of Age, Music, Musical', 'Comedy, Coming of Age, Science Fiction', 'Drama, Family, Mystery', 'Animation, Comedy, Disaster', 'Sports', 'Comedy, Family, Game Show / Competition', 'Comedy, Mystery', 'Family, Fantasy, Romance', 'Action-Adventure, Family, Historical', 'Documentary, Family, Reality', 'Buddy, Comedy, Family', 'Anthology, Family, Lifestyle', 'Animation, Anthology, Comedy', 'Animation, Kids, Parody', 'Fantasy, Musical, Thriller', 'Family, Lifestyle, Reality', 'Documentary, Family, Variety', 'Biographical, Sports', 'Docuseries, Family, Medical', 'Comedy, Coming of Age, Sports', 'Action-Adventure, Crime, Family', 'Music, Reality', 'Drama, Parody, Science Fiction', 'Action-Adventure, Documentary, Sports', 'Drama, Mystery', 'Coming of Age, Sports', 'Coming of Age, Dance, Drama', 'Animation, Family, Music', 'Animals & Nature, Docuseries, Survival', 'Concert Film, Documentary, Music', 'Comedy, Family, Romantic Comedy', 'Coming of Age, Musical, Romance', 'Coming of Age, Musical', 'Coming of Age, Family, Musical', 'Animals & Nature, Comedy, Coming of Age', 'Biographical, Family, Sports', 'Comedy, Science Fiction', 'Animals & Nature, Documentary, Medical', 'Coming of Age, Dance, Sports', 'Action-Adventure, Coming of Age', 'Animation, Family, Musical', 'Action-Adventure, Documentary, Superhero', 'Buddy, Comedy', 'Drama, Historical, Sports', 'Action-Adventure, Documentary', 'Anthology, Comedy, Kids', 'Drama, Fantasy', 'Action-Adventure, Animals & Nature, Comedy', 'Kids', 'Animals & Nature, Animation, Family', 'Anthology, Comedy, Family', 'Animals & Nature, Coming of Age, Family', 'Family, Fantasy', 'Buddy, Family, Sports', 'Biographical, Drama, Historical', 'Animals & Nature, Biographical, Drama', 'Comedy, Crime, Family', 'Animation, Buddy, Family', 'Fantasy, Kids, Mystery', 'Action-Adventure, Family, Survival', 'Action-Adventure, Western', 'Buddy, Coming of Age, Family', 'Comedy, Family, Western', 'Action-Adventure, Science Fiction, Thriller', 'Animation, Anthology, Kids', 'Action-Adventure, Family, Western', 'Crime, Drama, Family', 'Comedy, Crime, Science Fiction', 'Comedy, Music', 'Action-Adventure, Comedy', 'Animation, Drama, Fantasy', 'Comedy, Family, Romance', 'Action-Adventure, Drama, Family', 'Biographical, Family, Historical', 'Buddy, Comedy, Romance', 'Action-Adventure, Family, Mystery', 'Coming of Age, Drama, Fantasy', 'Comedy, Crime, Fantasy', 'Action-Adventure, Coming of Age, Fantasy', 'Animals & Nature, Docuseries, Travel', 'Coming of Age, Musical, Science Fiction', 'Animation, Family, Mystery', 'Biographical, Comedy, Drama', 'Action-Adventure, Animals & Nature, Animation']\n"
     ]
    }
   ],
   "source": [
    "print(list_of_elements(dp,10))"
   ]
  },
  {
   "attachments": {},
   "cell_type": "markdown",
   "metadata": {},
   "source": [
    "## Step 6: Get the unique list of above categories and then the count in each category ##\n",
    "For this generalize the list_of_elements to have data, column location and seperator as input. Let's name it list_of_items"
   ]
  },
  {
   "cell_type": "code",
   "execution_count": 15,
   "metadata": {},
   "outputs": [],
   "source": [
    "def list_of_items(data_l, loc_l, sep_l):\n",
    "    items_list_l = []\n",
    "    for row_l in data_l:\n",
    "        row_list_l = []\n",
    "        row_list_l = row_l[loc_l].split(sep_l)\n",
    "        for item in row_list_l:\n",
    "            if item not in items_list_l:\n",
    "                items_list_l.append(item)\n",
    "    return items_list_l"
   ]
  },
  {
   "cell_type": "markdown",
   "metadata": {},
   "source": [
    "Use above created function to print the unique list of Genres ('listed-in')"
   ]
  },
  {
   "cell_type": "code",
   "execution_count": 16,
   "metadata": {},
   "outputs": [
    {
     "name": "stdout",
     "output_type": "stream",
     "text": [
      "['Animation', 'Family', 'Comedy', 'Musical', 'Docuseries', 'Historical', 'Music', 'Biographical', 'Documentary', 'Action-Adventure', 'Superhero', 'Reality', 'Survival', 'Animals & Nature', 'Kids', 'Coming of Age', 'Drama', 'Fantasy', 'Lifestyle', 'Movies', 'Science Fiction', 'Concert Film', 'Crime', 'Sports', 'Anthology', 'Medical', 'Variety', 'Spy/Espionage', 'Buddy', 'Parody', 'Game Show / Competition', 'Romance', 'Anime', 'Romantic Comedy', 'Thriller', 'Police/Cop', 'Talk Show', 'Western', 'Dance', 'Series', 'Mystery', 'Soap Opera / Melodrama', 'Disaster', 'Travel']\n"
     ]
    }
   ],
   "source": [
    "print(list_of_items(dp,10,\", \"))"
   ]
  },
  {
   "attachments": {},
   "cell_type": "markdown",
   "metadata": {},
   "source": [
    "Generalize the rating_count function to have data, location and separator as input. Let's name it item_count"
   ]
  },
  {
   "cell_type": "code",
   "execution_count": 17,
   "metadata": {},
   "outputs": [],
   "source": [
    "def items_count(dataset_l, loc_l, sep_l):\n",
    "    items_count_l = {}\n",
    "    for row_l in dataset_l:\n",
    "        items_list_l = row_l[loc_l].split(sep_l)\n",
    "        for item_l in items_list_l:\n",
    "            if item_l in items_count_l:\n",
    "                items_count_l[item_l] += 1\n",
    "            else:\n",
    "                items_count_l[item_l] = 1\n",
    "    sorted_items_count = dict(sorted(items_count_l.items(), key=lambda item: item[1], reverse=True))\n",
    "    return sorted_items_count"
   ]
  },
  {
   "cell_type": "markdown",
   "metadata": {},
   "source": [
    "Get the count of each genre in movies and tv shows"
   ]
  },
  {
   "cell_type": "code",
   "execution_count": 18,
   "metadata": {},
   "outputs": [
    {
     "name": "stdout",
     "output_type": "stream",
     "text": [
      "Moview Category Count: {'Family': 533, 'Comedy': 407, 'Animation': 381, 'Action-Adventure': 314, 'Documentary': 174, 'Fantasy': 158, 'Coming of Age': 153, 'Animals & Nature': 130, 'Drama': 121, 'Science Fiction': 76, 'Biographical': 41, 'Musical': 40, 'Kids': 39, 'Music': 38, 'Sports': 38, 'Historical': 38, 'Buddy': 24, 'Romance': 19, 'Superhero': 16, 'Crime': 16, 'Mystery': 8, 'Concert Film': 7, 'Variety': 7, 'Parody': 7, 'Anthology': 7, 'Dance': 6, 'Thriller': 5, 'Western': 5, 'Reality': 4, 'Lifestyle': 3, 'Movies': 3, 'Survival': 3, 'Spy/Espionage': 2, 'Romantic Comedy': 2, 'Medical': 2, 'Disaster': 2}\n",
      "Shows Category Count: {'Animation': 161, 'Action-Adventure': 138, 'Docuseries': 122, 'Comedy': 119, 'Kids': 102, 'Family': 99, 'Animals & Nature': 78, 'Coming of Age': 52, 'Fantasy': 34, 'Reality': 22, 'Anthology': 21, 'Buddy': 16, 'Historical': 15, 'Science Fiction': 15, 'Drama': 13, 'Music': 10, 'Game Show / Competition': 10, 'Survival': 6, 'Sports': 5, 'Lifestyle': 5, 'Variety': 5, 'Medical': 4, 'Anime': 4, 'Musical': 4, 'Mystery': 4, 'Superhero': 3, 'Series': 3, 'Western': 2, 'Soap Opera / Melodrama': 2, 'Parody': 2, 'Police/Cop': 1, 'Talk Show': 1, 'Romance': 1, 'Spy/Espionage': 1, 'Travel': 1}\n"
     ]
    }
   ],
   "source": [
    "print(\"Moview Category Count:\", items_count(disney_movies, 10, \", \"))\n",
    "print(\"Shows Category Count:\", items_count(disney_shows, 10, \", \"))"
   ]
  },
  {
   "attachments": {},
   "cell_type": "markdown",
   "metadata": {},
   "source": [
    "The maximum movies are listed in Family followed by Comedy and animation.\n",
    "\n",
    "The maximum Shows are listed in Animation followed by Action-Adventure and Docuseries."
   ]
  },
  {
   "attachments": {},
   "cell_type": "markdown",
   "metadata": {},
   "source": [
    "## Step 7: What is the average duration of movies and shows ##"
   ]
  },
  {
   "attachments": {},
   "cell_type": "markdown",
   "metadata": {},
   "source": [
    "The duration of movies is in minutes and shows in seasons. Remove the suffix minutes and seasons and covert them to numeric. Create a function for it."
   ]
  },
  {
   "cell_type": "code",
   "execution_count": 19,
   "metadata": {},
   "outputs": [],
   "source": [
    "def duration_conversion(data_l):\n",
    "    for row_l in data_l:\n",
    "        new_values = []\n",
    "        new_values = row_l[9].split(\" \")\n",
    "        row_l[9] = int(new_values[0])\n",
    "    return data_l"
   ]
  },
  {
   "cell_type": "markdown",
   "metadata": {},
   "source": [
    "Create a function average that will create the average of all the values in a column in given dataset."
   ]
  },
  {
   "cell_type": "code",
   "execution_count": 20,
   "metadata": {},
   "outputs": [],
   "source": [
    "def average(data_l,loc_l):\n",
    "    sum_l = 0\n",
    "    count_l = 0\n",
    "    for row_l in data_l:\n",
    "        sum_l += row_l[loc_l]\n",
    "        count_l += 1\n",
    "    return(sum_l/count_l)"
   ]
  },
  {
   "cell_type": "markdown",
   "metadata": {},
   "source": [
    "Use the newly created functions to calculate the average duration for movies."
   ]
  },
  {
   "cell_type": "code",
   "execution_count": 21,
   "metadata": {},
   "outputs": [],
   "source": [
    "disney_movies_mod = duration_conversion(disney_movies)"
   ]
  },
  {
   "cell_type": "code",
   "execution_count": 22,
   "metadata": {},
   "outputs": [
    {
     "name": "stdout",
     "output_type": "stream",
     "text": [
      "['s1', 'Movie', 'Duck the Halls: A Mickey Mouse Christmas Special', 'Alonso Ramirez Ramos, Dave Wasson', 'Chris Diamantopoulos, Tony Anselmo, Tress MacNeille, Bill Farmer, Russi Taylor, Corey Burton', '', 'November 26, 2021', '2016', 'TV-G', 23, 'Animation, Family', 'Join Mickey and the gang as they duck the halls!']\n",
      "\n",
      "\n",
      "['s2', 'Movie', 'Ernest Saves Christmas', 'John Cherry', 'Jim Varney, Noelle Parker, Douglas Seale', '', 'November 26, 2021', '1988', 'PG', 91, 'Comedy', 'Santa Claus passes his magic bag to a new St. Nic.']\n",
      "\n",
      "\n",
      "no. of rows: 1052\n",
      "no. of columns: 12\n"
     ]
    }
   ],
   "source": [
    "explore_data(disney_movies_mod,0,2,True)"
   ]
  },
  {
   "cell_type": "code",
   "execution_count": 23,
   "metadata": {},
   "outputs": [
    {
     "name": "stdout",
     "output_type": "stream",
     "text": [
      "Average Duration of Movies in minutes:  71.9106463878327\n"
     ]
    }
   ],
   "source": [
    "print(\"Average Duration of Movies in minutes: \", average(disney_movies_mod, 9))"
   ]
  },
  {
   "cell_type": "markdown",
   "metadata": {},
   "source": [
    " Now Calculate the average duration for TV Shows"
   ]
  },
  {
   "cell_type": "code",
   "execution_count": 24,
   "metadata": {},
   "outputs": [
    {
     "name": "stdout",
     "output_type": "stream",
     "text": [
      "['s5', 'TV Show - Docuseries', 'The Beatles: Get Back', '', 'John Lennon, Paul McCartney, George Harrison, Ringo Starr', '', 'November 25, 2021', '2021', '', 1, 'Docuseries, Historical, Music', 'A three-part documentary from Peter Jackson capturing a moment in music history with The Beatles.']\n",
      "\n",
      "\n",
      "['s7', 'TV Show - Season 1', 'Hawkeye', '', 'Jeremy Renner, Hailee Steinfeld, Vera Farmiga, Fra Fee, Tony Dalton, Zahn McClarnon', '', 'November 24, 2021', '2021', 'TV-14', 1, 'Action-Adventure, Superhero', 'Clint Barton/Hawkeye must team up with skilled archer Kate Bishop to unravel a criminal conspiracy.']\n",
      "\n",
      "\n",
      "no. of rows: 398\n",
      "no. of columns: 12\n"
     ]
    }
   ],
   "source": [
    "disney_show_mod = duration_conversion(disney_shows)\n",
    "explore_data(disney_show_mod,0,2,True)"
   ]
  },
  {
   "cell_type": "code",
   "execution_count": 25,
   "metadata": {},
   "outputs": [
    {
     "name": "stdout",
     "output_type": "stream",
     "text": [
      "Average Duration of Shows in seasons:  2.1180904522613067\n"
     ]
    }
   ],
   "source": [
    "print(\"Average Duration of Shows in seasons: \", average(disney_show_mod, 9))"
   ]
  },
  {
   "attachments": {},
   "cell_type": "markdown",
   "metadata": {},
   "source": [
    "The average duration of movies is 72 minutes.\n",
    "\n",
    "The average duration of TV shows is 2 seasons."
   ]
  },
  {
   "attachments": {},
   "cell_type": "markdown",
   "metadata": {},
   "source": [
    "## Step 8: Can you make your function more robust? ##\n",
    "\n",
    "Make a nested function `filter_data` to filter the data based on criteria in the input and then use this nested function in items_count to generate statistics for filtered data. \n",
    "\n",
    "For example, if your content manager asks you to provide the count of movies based on genre only in Germany. \n",
    "\n",
    "You start working on the function and after some time he wants the data only for the year 2004. \n",
    "\n",
    "With this ever changing filtering criteria, you decide to make your function handle this dynamic changing filtering list. "
   ]
  },
  {
   "cell_type": "code",
   "execution_count": 26,
   "metadata": {},
   "outputs": [],
   "source": [
    "def filter_data(row_ll, filters_ll):\n",
    "    include_row_ll = True\n",
    "    for loc_filter_ll, val_filter_ll in filters_ll.items():\n",
    "        if ',' in row_ll[loc_filter_ll]:\n",
    "            parts_ll = [part.strip() for part in row_ll[loc_filter_ll].split(',')]\n",
    "            if val_filter_ll not in parts_ll:\n",
    "                include_row_ll = False\n",
    "                break\n",
    "        else:\n",
    "            if row_ll[loc_filter_ll] != val_filter_ll:\n",
    "                include_row_ll = False\n",
    "                break\n",
    "    return include_row_ll"
   ]
  },
  {
   "cell_type": "code",
   "execution_count": 27,
   "metadata": {},
   "outputs": [],
   "source": [
    "def items_count(dataset_l, loc_l, sep_l, filters_l):\n",
    "    items_count_l = {}\n",
    "    for row_l in dataset_l:\n",
    "        if filters_l != {}:\n",
    "            include_row_l = filter_data(row_l, filters_l)\n",
    "        else:\n",
    "            include_row_l = True\n",
    "        if include_row_l:\n",
    "            items_list_l = row_l[loc_l].split(sep_l)\n",
    "            for item_l in items_list_l:\n",
    "                if item_l.strip() in items_count_l:\n",
    "                    items_count_l[item_l.strip()] += 1\n",
    "                else:\n",
    "                    items_count_l[item_l.strip()] = 1\n",
    "    sorted_items_count = dict(sorted(items_count_l.items(), key=lambda item: item[1], reverse=True))\n",
    "    return sorted_items_count"
   ]
  },
  {
   "cell_type": "markdown",
   "metadata": {},
   "source": [
    "Print the count of movies based on genre and without any filtering criteria"
   ]
  },
  {
   "cell_type": "code",
   "execution_count": 28,
   "metadata": {},
   "outputs": [
    {
     "name": "stdout",
     "output_type": "stream",
     "text": [
      "{'Family': 533, 'Comedy': 407, 'Animation': 381, 'Action-Adventure': 314, 'Documentary': 174, 'Fantasy': 158, 'Coming of Age': 153, 'Animals & Nature': 130, 'Drama': 121, 'Science Fiction': 76, 'Biographical': 41, 'Musical': 40, 'Kids': 39, 'Music': 38, 'Sports': 38, 'Historical': 38, 'Buddy': 24, 'Romance': 19, 'Superhero': 16, 'Crime': 16, 'Mystery': 8, 'Concert Film': 7, 'Variety': 7, 'Parody': 7, 'Anthology': 7, 'Dance': 6, 'Thriller': 5, 'Western': 5, 'Reality': 4, 'Lifestyle': 3, 'Movies': 3, 'Survival': 3, 'Spy/Espionage': 2, 'Romantic Comedy': 2, 'Medical': 2, 'Disaster': 2}\n"
     ]
    }
   ],
   "source": [
    "print(items_count(disney_movies, 10, ',', {}))"
   ]
  },
  {
   "cell_type": "markdown",
   "metadata": {},
   "source": [
    "Now, print the count of movies based on genre and only for Germany"
   ]
  },
  {
   "cell_type": "code",
   "execution_count": 30,
   "metadata": {},
   "outputs": [
    {
     "name": "stdout",
     "output_type": "stream",
     "text": [
      "{'Comedy': 5, 'Action-Adventure': 4, 'Family': 4, 'Science Fiction': 2, 'Coming of Age': 2, 'Animation': 1, 'Animals & Nature': 1, 'Documentary': 1, 'Biographical': 1, 'Drama': 1, 'Buddy': 1}\n"
     ]
    }
   ],
   "source": [
    "print(items_count(disney_movies, 10, ',', {5: 'Germany'}))"
   ]
  },
  {
   "cell_type": "markdown",
   "metadata": {},
   "source": [
    "Now, print the count of movies based on genre and only for Germany and that too only for year 2004"
   ]
  },
  {
   "cell_type": "code",
   "execution_count": 31,
   "metadata": {},
   "outputs": [
    {
     "name": "stdout",
     "output_type": "stream",
     "text": [
      "{'Comedy': 2, 'Action-Adventure': 1, 'Family': 1, 'Coming of Age': 1}\n"
     ]
    }
   ],
   "source": [
    "print(items_count(disney_movies, 10, ',', {5: 'Germany', 7: '2004'}))"
   ]
  }
 ],
 "metadata": {
  "kernelspec": {
   "display_name": "base",
   "language": "python",
   "name": "python3"
  },
  "language_info": {
   "codemirror_mode": {
    "name": "ipython",
    "version": 3
   },
   "file_extension": ".py",
   "mimetype": "text/x-python",
   "name": "python",
   "nbconvert_exporter": "python",
   "pygments_lexer": "ipython3",
   "version": "3.9.16"
  },
  "orig_nbformat": 4,
  "vscode": {
   "interpreter": {
    "hash": "619b955346cbfe204b67180c22b650d924d6345250d3da715f150ba579a03d34"
   }
  }
 },
 "nbformat": 4,
 "nbformat_minor": 2
}
